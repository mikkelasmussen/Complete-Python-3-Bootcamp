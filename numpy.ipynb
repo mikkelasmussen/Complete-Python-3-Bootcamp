{
  "nbformat": 4,
  "nbformat_minor": 0,
  "metadata": {
    "@webio": {
      "lastCommId": null,
      "lastKernelId": null
    },
    "celltoolbar": "Slideshow",
    "colab": {
      "name": "numpy.ipynb",
      "provenance": [],
      "collapsed_sections": [],
      "toc_visible": true
    },
    "kernelspec": {
      "display_name": "Python 3",
      "language": "python",
      "name": "python3"
    },
    "language_info": {
      "codemirror_mode": {
        "name": "ipython",
        "version": 3
      },
      "file_extension": ".py",
      "mimetype": "text/x-python",
      "name": "python",
      "nbconvert_exporter": "python",
      "pygments_lexer": "ipython3",
      "version": "3.8.3"
    },
    "rise": {
      "scroll": true
    },
    "toc": {
      "base_numbering": 1,
      "nav_menu": {},
      "number_sections": true,
      "sideBar": true,
      "skip_h1_title": false,
      "title_cell": "Table of Contents",
      "title_sidebar": "Contents",
      "toc_cell": false,
      "toc_position": {},
      "toc_section_display": true,
      "toc_window_display": false
    },
    "toc-autonumbering": true,
    "toc-showcode": false,
    "toc-showmarkdowntxt": false,
    "toc-showtags": false
  },
  "cells": [
    {
      "cell_type": "markdown",
      "metadata": {
        "id": "OJ2ayTn6J9oO"
      },
      "source": [
        "# Numpy\n",
        "    \n",
        "![Numpy  logo](https://numpy.org/images/logos/numpy.svg)\n",
        "    \n",
        "- prepared by [Jakob Nybo Nissen](https://twitter.com/nybojakob), continued by [Henry Webel](https://twitter.com/Henrywebel)\n",
        "    \n",
        "The first half of this Notebook contain a small introduction to `numpy`. If you have seen [the YouTube video](https://www.youtube.com/watch?v=8Mpc9ukltVA) and feel comfortable using [`numpy`](https://numpy.org/), you can skip the introduction and go directly to the [exercises (click here)](#exercises). If you would like a recap, keep reading on."
      ]
    },
    {
      "cell_type": "markdown",
      "metadata": {
        "id": "_iCGyIBwW8fz"
      },
      "source": [
        "## Introduction\n",
        "\n",
        "[`numpy`](https://numpy.org/) is a Python package that provides a new type of object: The `ndarray`. This is an N-dimensional array, i.e. a \"list\" with any number of dimensions.\n",
        "`numpy` is one of the most fundamental Python packages. Almost all of scientific Python uses [`numpy`](https://numpy.org/) either directly, or indirectly through another package.\n",
        "\n",
        "[![Figure 2, Harris et. al. 2020](https://media.springernature.com/full/springer-static/image/art%3A10.1038%2Fs41586-020-2649-2/MediaObjects/41586_2020_2649_Fig2_HTML.png?as=webp)](https://www.nature.com/articles/s41586-020-2649-2/figures/2)\n",
        "\n",
        "It may not be immediately clear why [`numpy`](https://numpy.org/)'s `ndarrays` are so useful that they are everywhere. Do ALL scientific software really need N-dimensional arrays? As you will learn in these exercises, even for 1-dimensional data that *could* be placed in lists, `ndarrays` are generally useful for their convenience and speed."
      ]
    },
    {
      "cell_type": "markdown",
      "metadata": {
        "id": "CoJxg-ikW8fz"
      },
      "source": [
        "### Reference\n",
        "Harris, C. R., Millman, K. J., van der Walt, S. J., Gommers, R., Virtanen, P., Cournapeau, D., Wieser, E., Taylor, J., Berg, S., Smith, N. J., Kern, R., Picus, M., Hoyer, S., van Kerkwijk, M. H., Brett, M., Haldane, A., del Río, J. F., Wiebe, M., Peterson, P., … Oliphant, T. E. (2020). Array programming with NumPy. Nature, 585(7825), 357–362. https://doi.org/10.1038/s41586-020-2649-2\n",
        "\n",
        "\n",
        "[![Figure1, Harris et. al. 2020](https://media.springernature.com/full/springer-static/image/art%3A10.1038%2Fs41586-020-2649-2/MediaObjects/41586_2020_2649_Fig1_HTML.png?as=webp)](https://www.nature.com/articles/s41586-020-2649-2/figures/1)"
      ]
    },
    {
      "cell_type": "markdown",
      "metadata": {
        "id": "2N52UJ6OW8fz"
      },
      "source": [
        "### Outline\n",
        "Today, first start with 1-dimensionalal `ndarray`s and use some statistical operations on them. Then, we will have a look at multidimensional arrays by using matrices, i.e. 2-dimensional `ndarray`'s.\n",
        "\n",
        "Let's get started right away and import `numpy`:"
      ]
    },
    {
      "cell_type": "code",
      "metadata": {
        "id": "9kPidT2uJ9oO"
      },
      "source": [
        "# We can import like this to rename numpy \"np\"\n",
        "# and make the name shorter\n",
        "import numpy as np"
      ],
      "execution_count": null,
      "outputs": []
    },
    {
      "cell_type": "code",
      "metadata": {
        "id": "_Hr0fl9_0V7M"
      },
      "source": [
        "# # You could accces your drive files by connecting your drive storage\n",
        "# from google.colab import drive\n",
        "# drive.mount('/content/drive')"
      ],
      "execution_count": null,
      "outputs": []
    },
    {
      "cell_type": "markdown",
      "metadata": {
        "id": "F1pIGPVjJ9oO"
      },
      "source": [
        "## Instantiating (creating) `ndarray`s\n",
        "We begin with a normal Python list of numbers. *italicized text*"
      ]
    },
    {
      "cell_type": "code",
      "metadata": {
        "colab": {
          "base_uri": "https://localhost:8080/"
        },
        "id": "zR_bgxWwJ9oO",
        "outputId": "5a3c78f9-aed2-44e7-96a0-bf48b716a4f8"
      },
      "source": [
        "values = [4, 9, 1, 0, 8, 3, 2, 2, 6, 5, 0]\n",
        "values"
      ],
      "execution_count": null,
      "outputs": [
        {
          "output_type": "execute_result",
          "data": {
            "text/plain": [
              "[4, 9, 1, 0, 8, 3, 2, 2, 6, 5, 0]"
            ]
          },
          "metadata": {
            "tags": []
          },
          "execution_count": 3
        }
      ]
    },
    {
      "cell_type": "markdown",
      "metadata": {
        "id": "7jDP3Mu2J9oO"
      },
      "source": [
        "---\n",
        "We can create an `ndarray` out of this list:"
      ]
    },
    {
      "cell_type": "code",
      "metadata": {
        "colab": {
          "base_uri": "https://localhost:8080/"
        },
        "id": "-2_p90cFJ9oO",
        "outputId": "81fc3268-4e24-420f-84ad-f72db83ffdaf"
      },
      "source": [
        "array = np.array(values)\n",
        "print(array)\n",
        "print(type(array))"
      ],
      "execution_count": null,
      "outputs": [
        {
          "output_type": "stream",
          "text": [
            "[4 9 1 0 8 3 2 2 6 5 0]\n",
            "<class 'numpy.ndarray'>\n"
          ],
          "name": "stdout"
        }
      ]
    },
    {
      "cell_type": "markdown",
      "metadata": {
        "id": "zKsWAk7CJ9oP"
      },
      "source": [
        "You notice the `ndarray` looks a lot like a `list`. You can also construct `ndarrays` from a tuple. \n",
        "\n",
        "\n"
      ]
    },
    {
      "cell_type": "markdown",
      "metadata": {
        "id": "oh5bCq95jWbz"
      },
      "source": [
        "## Slicing\n",
        "We can access and assign individual numbers in an `ndarray` like we do with `list`:"
      ]
    },
    {
      "cell_type": "code",
      "metadata": {
        "colab": {
          "base_uri": "https://localhost:8080/"
        },
        "id": "WUWAYd-SJ9oP",
        "outputId": "4783beef-0fc1-444b-86dc-50f32c304f11"
      },
      "source": [
        "print(array[2])\n",
        "print(array[2:6])\n",
        "array[3] = 10\n",
        "print(array)"
      ],
      "execution_count": null,
      "outputs": [
        {
          "output_type": "stream",
          "text": [
            "1\n",
            "[1 0 8 3]\n",
            "[ 4  9  1 10  8  3  2  2  6  5  0]\n"
          ],
          "name": "stdout"
        }
      ]
    },
    {
      "cell_type": "markdown",
      "metadata": {
        "id": "opRfLr94J9oP"
      },
      "source": [
        "---\n",
        "We can also loop over the `ndarray`, reverse it, and so on. The full list of methods you find in the docs of [`numpy.ndarray`](https://numpy.org/doc/stable/reference/generated/numpy.ndarray.html)\n",
        "\n",
        "There are two main limitations that `ndarrays` have compared to lists. We cannot use `append` or `pop`, or other operations that *changes* the array _in-place_:"
      ]
    },
    {
      "cell_type": "code",
      "metadata": {
        "colab": {
          "base_uri": "https://localhost:8080/",
          "height": 163
        },
        "id": "LugFA4AUJ9oP",
        "outputId": "2eff65a2-e54b-40c6-fb5a-3dff2cffc246"
      },
      "source": [
        "array.append(3)"
      ],
      "execution_count": null,
      "outputs": [
        {
          "output_type": "error",
          "ename": "AttributeError",
          "evalue": "'numpy.ndarray' object has no attribute 'append'",
          "traceback": [
            "\u001b[1;31m---------------------------------------------------------------------------\u001b[0m",
            "\u001b[1;31mAttributeError\u001b[0m                            Traceback (most recent call last)",
            "\u001b[1;32m<ipython-input-6-e9cb6c9fca85>\u001b[0m in \u001b[0;36m<module>\u001b[1;34m\u001b[0m\n\u001b[1;32m----> 1\u001b[1;33m \u001b[0marray\u001b[0m\u001b[1;33m.\u001b[0m\u001b[0mappend\u001b[0m\u001b[1;33m(\u001b[0m\u001b[1;36m3\u001b[0m\u001b[1;33m)\u001b[0m\u001b[1;33m\u001b[0m\u001b[1;33m\u001b[0m\u001b[0m\n\u001b[0m",
            "\u001b[1;31mAttributeError\u001b[0m: 'numpy.ndarray' object has no attribute 'append'"
          ]
        }
      ]
    },
    {
      "cell_type": "markdown",
      "metadata": {
        "id": "sXL5SHVQJ9oP"
      },
      "source": [
        "---\n",
        "There are many other ways to instantiate (i.e. create) `ndarray`s. Here are a few useful ones - you might need them later!"
      ]
    },
    {
      "cell_type": "code",
      "metadata": {
        "colab": {
          "base_uri": "https://localhost:8080/"
        },
        "id": "is4IYBIiJ9oP",
        "outputId": "07befe44-6dd6-4e52-a5ce-9d116fe138ae"
      },
      "source": [
        "# Create a vector 10 zeros, default dtype is np.float64\n",
        "print('np.zeros:', np.zeros(10, dtype=np.int64))\n",
        "\n",
        "# Create an array of a range, similar to the range object\n",
        "print('np.arange:', np.arange(3, 15, 2))\n",
        "\n",
        "# Create vector of 10 floats from 3 to 15 having 9\n",
        "# evenly spaced elements (linear spacing):\n",
        "print('np.linspace:', np.linspace(3, 15, 9))\n",
        "\n",
        "# Create a vector of random numbers in the interval [0.0, 1.0)\n",
        "print('np.random.random:', np.random.random(5))\n",
        "\n",
        "# Create 9 random integers from 7 to 18\n",
        "print('np.random.randint:', np.random.randint(7, 19, size=9))"
      ],
      "execution_count": null,
      "outputs": [
        {
          "output_type": "stream",
          "text": [
            "np.zeros: [0 0 0 0 0 0 0 0 0 0]\n",
            "np.arange: [ 3  5  7  9 11 13]\n",
            "np.linspace: [ 3.   4.5  6.   7.5  9.  10.5 12.  13.5 15. ]\n",
            "np.random.random: [0.43395526 0.26952376 0.56649708 0.98576584 0.02292751]\n",
            "np.random.randint: [ 9 18  7 18 11 11 13  7 10]\n"
          ],
          "name": "stdout"
        }
      ]
    },
    {
      "cell_type": "markdown",
      "metadata": {
        "id": "ONbVG4LiJ9oP"
      },
      "source": [
        "## Data type of arrays (`dtype`)"
      ]
    },
    {
      "cell_type": "markdown",
      "metadata": {
        "id": "5-JwMXAxJ9oP"
      },
      "source": [
        "The second disadvantage is that an `ndarray` can only contain one kind of data at a time, i.e. `float` or `int` etc. The data type is given by the `dtype` field of the array:"
      ]
    },
    {
      "cell_type": "code",
      "metadata": {
        "colab": {
          "base_uri": "https://localhost:8080/"
        },
        "id": "bsHqA_ScJ9oP",
        "outputId": "54b21794-b0b5-48f2-ccd8-0492e403fc86"
      },
      "source": [
        "array.dtype"
      ],
      "execution_count": null,
      "outputs": [
        {
          "output_type": "execute_result",
          "data": {
            "text/plain": [
              "dtype('int32')"
            ]
          },
          "metadata": {
            "tags": []
          },
          "execution_count": 8
        }
      ]
    },
    {
      "cell_type": "markdown",
      "metadata": {
        "id": "7tS1xGoOJ9oP"
      },
      "source": [
        "---\n",
        "This array contains `np.int64`, a type representing 64-bit integers. If we try to add a `float` to the array, it will be converted to an `np.int64`, or raise an error if that is not possible."
      ]
    },
    {
      "cell_type": "code",
      "metadata": {
        "colab": {
          "base_uri": "https://localhost:8080/",
          "height": 214
        },
        "id": "r6ewCKVgJ9oP",
        "outputId": "db8fc94e-c6dc-401b-d0a1-2bbb3dba5d14"
      },
      "source": [
        "# 1.7 can be \"converted\" by rounding down to 1\n",
        "# (i.e) removing the fraction part, keeping the interger part 1\n",
        "array[2] = 1.7\n",
        "print(array)\n",
        "\n",
        "# \"hello\" cannot be converted to an integer\n",
        "array[2] = \"hello\""
      ],
      "execution_count": null,
      "outputs": [
        {
          "output_type": "stream",
          "text": [
            "[ 4  9  1 10  8  3  2  2  6  5  0]\n"
          ],
          "name": "stdout"
        },
        {
          "output_type": "error",
          "ename": "ValueError",
          "evalue": "invalid literal for int() with base 10: 'hello'",
          "traceback": [
            "\u001b[1;31m---------------------------------------------------------------------------\u001b[0m",
            "\u001b[1;31mValueError\u001b[0m                                Traceback (most recent call last)",
            "\u001b[1;32m<ipython-input-9-395b51183110>\u001b[0m in \u001b[0;36m<module>\u001b[1;34m\u001b[0m\n\u001b[0;32m      5\u001b[0m \u001b[1;33m\u001b[0m\u001b[0m\n\u001b[0;32m      6\u001b[0m \u001b[1;31m# \"hello\" cannot be converted to an integer\u001b[0m\u001b[1;33m\u001b[0m\u001b[1;33m\u001b[0m\u001b[1;33m\u001b[0m\u001b[0m\n\u001b[1;32m----> 7\u001b[1;33m \u001b[0marray\u001b[0m\u001b[1;33m[\u001b[0m\u001b[1;36m2\u001b[0m\u001b[1;33m]\u001b[0m \u001b[1;33m=\u001b[0m \u001b[1;34m\"hello\"\u001b[0m\u001b[1;33m\u001b[0m\u001b[1;33m\u001b[0m\u001b[0m\n\u001b[0m",
            "\u001b[1;31mValueError\u001b[0m: invalid literal for int() with base 10: 'hello'"
          ]
        }
      ]
    },
    {
      "cell_type": "markdown",
      "metadata": {
        "id": "TqSwL4LzJ9oP"
      },
      "source": [
        "---\n",
        "There are many possible datatypes - you can read more about them [on this link (click)](https://docs.scipy.org/doc/numpy/reference/arrays.dtypes.html). However, we will only look at a few data types.\n",
        "\n",
        "When you construct an `ndarray`, `numpy` will try to automatically detect the input data type:"
      ]
    },
    {
      "cell_type": "code",
      "metadata": {
        "id": "JoUGrWpiJ9oP",
        "outputId": "6a1677f8-c07b-41db-dcf9-21febe455716"
      },
      "source": [
        "array = np.array([1, 2, 3])\n",
        "print(array, array.dtype)\n",
        "\n",
        "array = np.array([1.0, 2.0, 3])\n",
        "print(array, array.dtype)"
      ],
      "execution_count": null,
      "outputs": [
        {
          "output_type": "stream",
          "text": [
            "[1 2 3] int32\n",
            "[1. 2. 3.] float64\n"
          ],
          "name": "stdout"
        }
      ]
    },
    {
      "cell_type": "markdown",
      "metadata": {
        "id": "HOQkIfYYJ9oP"
      },
      "source": [
        "---\n",
        "Be careful when constructing `ndarrays` - for example if you try to construct an `ndarray` from a set object, which is not a list or a tuple, it simply create a 1-element `ndarray` containing the set as its only element, and the datatype will be `object`:"
      ]
    },
    {
      "cell_type": "code",
      "metadata": {
        "id": "hCkBzM6eJ9oP",
        "outputId": "b05399ef-3759-4970-ba77-39b2b0807030"
      },
      "source": [
        "array = np.array({1,2,3})\n",
        "print(array, array.dtype)"
      ],
      "execution_count": null,
      "outputs": [
        {
          "output_type": "stream",
          "text": [
            "{1, 2, 3} object\n"
          ],
          "name": "stdout"
        }
      ]
    },
    {
      "cell_type": "markdown",
      "metadata": {
        "id": "qTLAy0-vJ9oQ"
      },
      "source": [
        "---\n",
        "You can also manually specify the data type you want. Notice here that it converts `2.5` to `2`:"
      ]
    },
    {
      "cell_type": "code",
      "metadata": {
        "id": "WDQvwRzQJ9oQ",
        "outputId": "5b826477-6934-49e2-8e7e-98e6ded42637"
      },
      "source": [
        "np.array([1.0, 2.5, 3.0], dtype=np.int64)"
      ],
      "execution_count": null,
      "outputs": [
        {
          "output_type": "execute_result",
          "data": {
            "text/plain": [
              "array([1, 2, 3], dtype=int64)"
            ]
          },
          "metadata": {
            "tags": []
          },
          "execution_count": 12
        }
      ]
    },
    {
      "cell_type": "markdown",
      "metadata": {
        "id": "1aEaOgwbJ9oQ"
      },
      "source": [
        "---\n",
        "And you can convert one numpy array to one with another dtype:"
      ]
    },
    {
      "cell_type": "code",
      "metadata": {
        "id": "qbmECMehJ9oQ",
        "outputId": "9d166f04-ab6f-4a8b-f76d-536695694747"
      },
      "source": [
        "array = np.array([1, 2, 3])\n",
        "array.astype(np.float64)"
      ],
      "execution_count": null,
      "outputs": [
        {
          "output_type": "execute_result",
          "data": {
            "text/plain": [
              "array([1., 2., 3.])"
            ]
          },
          "metadata": {
            "tags": []
          },
          "execution_count": 13
        }
      ]
    },
    {
      "cell_type": "markdown",
      "metadata": {
        "id": "3ztUHTVjJ9oQ"
      },
      "source": [
        "## Vectorized operations\n",
        "\n",
        "Conveniently, for many operations like `+`, `-`, `*`, `/`, `**` and others apply to each element of an `ndarray` automatically. For example, if you write: `array + 5`, this will add 5 to **every element** in the array. This is termed vectorized operations:"
      ]
    },
    {
      "cell_type": "code",
      "metadata": {
        "id": "QcSqFxJHJ9oQ",
        "outputId": "f6601d85-09f2-4dbe-c7dc-9c1fff9db7b3"
      },
      "source": [
        "array = np.array([4, 8, 1, 2, 9, 3, 7])\n",
        "print(array)\n",
        "print(array + 5)\n",
        "print(array * 2)\n",
        "print(array / 2)\n",
        "print(array**2)\n",
        "print(0.4 * array**2 + 1.5 * array - 0.9)"
      ],
      "execution_count": null,
      "outputs": [
        {
          "output_type": "stream",
          "text": [
            "[4 8 1 2 9 3 7]\n",
            "[ 9 13  6  7 14  8 12]\n",
            "[ 8 16  2  4 18  6 14]\n",
            "[2.  4.  0.5 1.  4.5 1.5 3.5]\n",
            "[16 64  1  4 81  9 49]\n",
            "[11.5 36.7  1.   3.7 45.   7.2 29.2]\n"
          ],
          "name": "stdout"
        }
      ]
    },
    {
      "cell_type": "markdown",
      "metadata": {
        "id": "uZ5AneQTW8f6"
      },
      "source": [
        "> Think about the difference of what the `+`, `-`, `*`, `/` operators invoke in comparison to `str` or `list` built-in types."
      ]
    },
    {
      "cell_type": "markdown",
      "metadata": {
        "id": "BJEELYKYJ9oQ"
      },
      "source": [
        "Because these vectorized operations actually execute code written in the programming language C, they are much, much faster than ordinary Python:"
      ]
    },
    {
      "cell_type": "code",
      "metadata": {
        "id": "fiJom0z_J9oQ"
      },
      "source": [
        "import random\n",
        "\n",
        "# Create a vector of 1 million random floats in [0.0, 1.0):\n",
        "python_list = [random.random() for i in range(1000000)]\n",
        "\n",
        "# Convert the Python list to a Numpy vector\n",
        "numpy_vector = np.array(python_list)"
      ],
      "execution_count": null,
      "outputs": []
    },
    {
      "cell_type": "code",
      "metadata": {
        "colab": {
          "base_uri": "https://localhost:8080/"
        },
        "id": "P4kAVPZHJ9oQ",
        "outputId": "d913a4e8-ec2a-4b44-bb6a-e883cd622ece"
      },
      "source": [
        "%timeit [2*i + 3 for i in python_list]"
      ],
      "execution_count": null,
      "outputs": [
        {
          "output_type": "stream",
          "text": [
            "85.5 ms ± 1.2 ms per loop (mean ± std. dev. of 7 runs, 10 loops each)\n"
          ],
          "name": "stdout"
        }
      ]
    },
    {
      "cell_type": "code",
      "metadata": {
        "colab": {
          "base_uri": "https://localhost:8080/"
        },
        "id": "DyDXVb0mJ9oQ",
        "outputId": "fb43716d-2aeb-4f2b-f4bf-6f139d0b6694"
      },
      "source": [
        "# On Jacob's computer, this is >200x faster than Python \n",
        "# In colab (with the lastest Python version?) this is still ~70x faster\n",
        "# On my machine it is reduced to a 22x faster\n",
        "%timeit 2*numpy_vector + 3"
      ],
      "execution_count": null,
      "outputs": [
        {
          "output_type": "stream",
          "text": [
            "3.83 ms ± 351 µs per loop (mean ± std. dev. of 7 runs, 100 loops each)\n"
          ],
          "name": "stdout"
        }
      ]
    },
    {
      "cell_type": "markdown",
      "metadata": {
        "id": "L-ec4YtjJ9oQ"
      },
      "source": [
        "### Masking\n",
        "Importantly, the comparison operators `>`, `>=`, `<`, `<=`, `==`, `!=` are also vectorized. Since these operators always return a `bool` (i.e. `True` or `False`), the result is an `ndarray` of data type `bool`. For example, we can check whether each element in `array` is greater than 3:"
      ]
    },
    {
      "cell_type": "code",
      "metadata": {
        "id": "ON9EBBLqJ9oQ",
        "outputId": "df52cc0c-4cbb-465f-bad8-e1002b3318c0"
      },
      "source": [
        "print(array)\n",
        "above_3 = array > 3\n",
        "print(above_3)\n",
        "print(above_3.dtype)"
      ],
      "execution_count": null,
      "outputs": [
        {
          "output_type": "stream",
          "text": [
            "[4 8 1 2 9 3 7]\n",
            "[ True  True False False  True False  True]\n",
            "bool\n"
          ],
          "name": "stdout"
        }
      ]
    },
    {
      "cell_type": "markdown",
      "metadata": {
        "id": "uZ-tvr0tJ9oQ"
      },
      "source": [
        "## Logical indexing\n",
        "*Logical indexing* refers to indexing an `ndarray` using another `ndarray` of dtype `bool`. This selects every element of the `ndarray` paired with the value `True`: For example:"
      ]
    },
    {
      "cell_type": "code",
      "metadata": {
        "id": "A668kz_QJ9oQ",
        "outputId": "d3be0424-00a3-434d-e5cf-cdb7469b45d2"
      },
      "source": [
        "array = np.array([1, 4, 6, 5, 0, 2, 9, 10, 0, 2, 7, 5])\n",
        "print('Array:', array)\n",
        "nonzero = array != 0\n",
        "print('Nonzero:', nonzero)\n",
        "\n",
        "# Now get all elements that are not zero:\n",
        "# Each element in array gets picked if nonzero is True\n",
        "array[nonzero]"
      ],
      "execution_count": null,
      "outputs": [
        {
          "output_type": "stream",
          "text": [
            "Array: [ 1  4  6  5  0  2  9 10  0  2  7  5]\n",
            "Nonzero: [ True  True  True  True False  True  True  True False  True  True  True]\n"
          ],
          "name": "stdout"
        },
        {
          "output_type": "execute_result",
          "data": {
            "text/plain": [
              "array([ 1,  4,  6,  5,  2,  9, 10,  2,  7,  5])"
            ]
          },
          "metadata": {
            "tags": []
          },
          "execution_count": 19
        }
      ]
    },
    {
      "cell_type": "markdown",
      "metadata": {
        "id": "LW44xq4BJ9oQ"
      },
      "source": [
        "---\n",
        "You can also assign to an `ndarray` using logical indexing. This will change all the numbers where the boolean array is `True`:"
      ]
    },
    {
      "cell_type": "code",
      "metadata": {
        "id": "l7__VYK6J9oQ",
        "outputId": "acc12161-c60f-4856-f8fd-ea47bcf97cbe"
      },
      "source": [
        "array[nonzero] = 1\n",
        "print(array)"
      ],
      "execution_count": null,
      "outputs": [
        {
          "output_type": "stream",
          "text": [
            "[1 1 1 1 0 1 1 1 0 1 1 1]\n"
          ],
          "name": "stdout"
        }
      ]
    },
    {
      "cell_type": "markdown",
      "metadata": {
        "id": "CBVH3SVPJ9oQ"
      },
      "source": [
        "## `ndarray` methods\n",
        "\n",
        "In addition to the vectorized opertaions, the `ndarray` object also have some methods (i.e. functions of the object type or class `ndarray`) to conveniently perform operations on the arrays. Like vectorized operations, these methods are very fast. The full list of methods you find in the docs of [`numpy.ndarray`](https://numpy.org/doc/stable/reference/generated/numpy.ndarray.html)."
      ]
    },
    {
      "cell_type": "code",
      "metadata": {
        "colab": {
          "base_uri": "https://localhost:8080/"
        },
        "id": "mDYUldVNJ9oQ",
        "outputId": "94494096-d369-4c5d-c962-ee53c8e374b8"
      },
      "source": [
        "array = np.array([4, 8, 1, 2, 9, 3, 7])\n",
        "print(\"Our array:\", array)\n",
        "print(\"Calculate sum:\", array.sum())\n",
        "print(\"Calculate mean:\", array.mean())\n",
        "print(\"Calculate variance:\", array.var())\n",
        "print(\"Calculate standard deviation:\", array.std())\n",
        "print(\"Calculate minimum/maximum:\", array.min(), array.max())"
      ],
      "execution_count": null,
      "outputs": [
        {
          "output_type": "stream",
          "text": [
            "Our array: [4 8 1 2 9 3 7]\n",
            "Calculate sum: 34\n",
            "Calculate mean: 4.857142857142857\n",
            "Calculate variance: 8.408163265306122\n",
            "Calculate standard deviation: 2.8996833043120627\n",
            "Calculate minimum/maximum: 1 9\n"
          ],
          "name": "stdout"
        }
      ]
    },
    {
      "cell_type": "markdown",
      "metadata": {
        "id": "D_9ljlyHJ9oQ"
      },
      "source": [
        "---\n",
        "Additional functions are not implemented as methods of `ndarray`, but can be found by typing `np.FUNCITON_NAME` such as:\n",
        "\n",
        "```python\n",
        "np.log\n",
        "np.sqrt\n",
        "np.any\n",
        "np.all,\n",
        "```\n",
        "and many, many more. In general, basic math operations, statistical operations and linear algebra is implemented in Numpy. Any other kind of number-crunching operation you might possibly need can be found in Scipy.\n"
      ]
    },
    {
      "cell_type": "code",
      "metadata": {
        "colab": {
          "base_uri": "https://localhost:8080/"
        },
        "id": "yRNq7ZSIJ9oQ",
        "outputId": "d20d282f-08e4-41fa-d06d-142556e864db"
      },
      "source": [
        " print(np.log(array))"
      ],
      "execution_count": null,
      "outputs": [
        {
          "output_type": "stream",
          "text": [
            "[1.38629436 2.07944154 0.         0.69314718 2.19722458 1.09861229\n",
            " 1.94591015]\n"
          ],
          "name": "stdout"
        }
      ]
    },
    {
      "cell_type": "markdown",
      "metadata": {
        "id": "ol5el84hJ9oQ"
      },
      "source": [
        "# Exercises\n",
        "\n",
        "In all of these exercises, do not loop over the `ndarray`s you create. All exercises can be solved using only vectorized operations on your arrays."
      ]
    },
    {
      "cell_type": "markdown",
      "metadata": {
        "id": "E8lcv9BwJ9oQ"
      },
      "source": [
        "## Simple vectorized operations\n",
        "\n",
        "You want to plot the mathematical function\n",
        "\n",
        "$f(x) = log(-1.3x^2 + 1.4^x + 7x + 50)$\n",
        "\n",
        "For the numbers in $[0, 20]$. To do this, you need to create a vector `xs` with lots of numbers between 0 and 20, and a vector `ys` with $f$ evaluated at every element of `xs`.\n",
        "\n",
        "To get a hang of vectorized operations, solve the problem *without using any loops*:\n",
        "\n",
        "### Create a vector `xs` with 1000 evenly spaced points between 0 and 20"
      ]
    },
    {
      "cell_type": "code",
      "metadata": {
        "id": "PE3exTicW8f7"
      },
      "source": [
        ""
      ],
      "execution_count": null,
      "outputs": []
    },
    {
      "cell_type": "markdown",
      "metadata": {
        "id": "wPopX9UlW8f7"
      },
      "source": [
        "### Create a Python function $f$ as seen above"
      ]
    },
    {
      "cell_type": "code",
      "metadata": {
        "id": "PMP5s4f1W8f7"
      },
      "source": [
        ""
      ],
      "execution_count": null,
      "outputs": []
    },
    {
      "cell_type": "markdown",
      "metadata": {
        "id": "v-zm5DwaW8f7"
      },
      "source": [
        "### Evaluate `ys` = $f(x)$, i.e. $f$ of every element of `xs`."
      ]
    },
    {
      "cell_type": "code",
      "metadata": {
        "id": "ODmYgb6SW8f7"
      },
      "source": [
        ""
      ],
      "execution_count": null,
      "outputs": []
    },
    {
      "cell_type": "markdown",
      "metadata": {
        "id": "mz8xofhiW8f7"
      },
      "source": [
        "### What is the mean and standard deviation of `ys`?"
      ]
    },
    {
      "cell_type": "code",
      "metadata": {
        "id": "oYERvrfYW8f7"
      },
      "source": [
        ""
      ],
      "execution_count": null,
      "outputs": []
    },
    {
      "cell_type": "markdown",
      "metadata": {
        "id": "LJsAVpFoW8f7"
      },
      "source": [
        "### How many elements of. `ys` are below 0? Between 1 and 2, both exclusive?\n",
        "\n",
        "> Hint: You can use a comparison operator to get an array of dtype `bool`. To get the number of elements that are `True`, you can exploit the fact that `True` behaves similar to the number 1, and `False` similar to the number 0."
      ]
    },
    {
      "cell_type": "code",
      "metadata": {
        "id": "ujMN1767W8f7"
      },
      "source": [
        ""
      ],
      "execution_count": null,
      "outputs": []
    },
    {
      "cell_type": "markdown",
      "metadata": {
        "id": "q04bncqbW8f7"
      },
      "source": [
        "### What is the minimum and maximum value of `ys`?"
      ]
    },
    {
      "cell_type": "code",
      "metadata": {
        "id": "bInIOc-MW8f7"
      },
      "source": [
        ""
      ],
      "execution_count": null,
      "outputs": []
    },
    {
      "cell_type": "markdown",
      "metadata": {
        "id": "12VHRB7eW8f7"
      },
      "source": [
        "### Create a vector `non_negatives`, which contain all the values of `ys` that are nonnegative."
      ]
    },
    {
      "cell_type": "code",
      "metadata": {
        "id": "TfEmeb2WW8f7"
      },
      "source": [
        ""
      ],
      "execution_count": null,
      "outputs": []
    },
    {
      "cell_type": "markdown",
      "metadata": {
        "id": "aTexSoieW8f7"
      },
      "source": [
        "### _Bonus exercise, not graded:_ Use `matplotlib` to plot `xs` vs `ys`."
      ]
    },
    {
      "cell_type": "markdown",
      "metadata": {
        "id": "24xnu_lLJ9oQ"
      },
      "source": [
        "## Species matrix\n",
        "\n",
        "Load in the data `depths.csv`. As seen below, this is a numerical matrix. There are 11 columns, with columns 2-11 representing a sample from a human git microbiome. Each row represents a genome of a micro-organism, a so-called \"operational taxonomic unit at 97% sequence identity\" (OTU_97). The first row gives the name of the genome. The values in the matrix represents the relative abundance (or depth) of that micro-organism in that sample, i.e. how much of the micro-organism there is."
      ]
    },
    {
      "cell_type": "code",
      "metadata": {
        "id": "jzoZyd3jJ9oQ"
      },
      "source": [
        "# You can use Bash commands by prepending them with !, this function works\n",
        "# on my computer because I have the correct path to the file depths.csv\n",
        "from pathlib import Path\n",
        "filepath = Path('data/depths.csv')"
      ],
      "execution_count": null,
      "outputs": []
    },
    {
      "cell_type": "markdown",
      "metadata": {
        "id": "dgRBUUlvJ9oQ"
      },
      "source": [
        "### Load in the matrix in some data structure of your choice, but make sure the numbers in each row is an `ndarray`."
      ]
    },
    {
      "cell_type": "code",
      "metadata": {
        "id": "bp0FR9sPW8f7"
      },
      "source": [
        ""
      ],
      "execution_count": null,
      "outputs": []
    },
    {
      "cell_type": "markdown",
      "metadata": {
        "id": "xdKruAoMW8f7"
      },
      "source": [
        "### How many OTUs are there? Show how you figured it out."
      ]
    },
    {
      "cell_type": "code",
      "metadata": {
        "id": "9dB2lPrLW8f7"
      },
      "source": [
        ""
      ],
      "execution_count": null,
      "outputs": []
    },
    {
      "cell_type": "markdown",
      "metadata": {
        "id": "TRRDe0QdW8f7"
      },
      "source": [
        "### Find the OTU \"OTU_97.41189.0\". What is the mean and standard deviations of the depths across the 10 samples of this OTU?"
      ]
    },
    {
      "cell_type": "code",
      "metadata": {
        "id": "vMUnzDcLW8f7"
      },
      "source": [
        ""
      ],
      "execution_count": null,
      "outputs": []
    },
    {
      "cell_type": "markdown",
      "metadata": {
        "id": "o_PiFrWTW8f7"
      },
      "source": [
        "### How many samples have 0 depth of that OTU? (or rather, below detection limit?)"
      ]
    },
    {
      "cell_type": "code",
      "metadata": {
        "id": "h-BipIOLW8f7"
      },
      "source": [
        ""
      ],
      "execution_count": null,
      "outputs": []
    },
    {
      "cell_type": "markdown",
      "metadata": {
        "id": "M9ko6v-JW8f7"
      },
      "source": [
        "### What is the mean and standard deviation if you exclude those samples?"
      ]
    },
    {
      "cell_type": "code",
      "metadata": {
        "id": "AjwNdjT0W8f7"
      },
      "source": [
        ""
      ],
      "execution_count": null,
      "outputs": []
    },
    {
      "cell_type": "markdown",
      "metadata": {
        "id": "MD3LS8NWW8f7"
      },
      "source": [
        "### We are not interested in OTUs present in fewer than 4 samples. Remove all those OTUs."
      ]
    },
    {
      "cell_type": "code",
      "metadata": {
        "id": "7PGkZSvLW8f7"
      },
      "source": [
        ""
      ],
      "execution_count": null,
      "outputs": []
    },
    {
      "cell_type": "markdown",
      "metadata": {
        "id": "SsnrTpRVW8f7"
      },
      "source": [
        "### How many OTUs did you remove?"
      ]
    },
    {
      "cell_type": "code",
      "metadata": {
        "id": "x7SGLwwqW8f7"
      },
      "source": [
        ""
      ],
      "execution_count": null,
      "outputs": []
    },
    {
      "cell_type": "markdown",
      "metadata": {
        "id": "rWQSAx27W8f8"
      },
      "source": [
        "### How many OTUs have a depth of > 5 in all 10 samples? (hint: `np.all`)"
      ]
    },
    {
      "cell_type": "code",
      "metadata": {
        "id": "dI4yLrxDW8f8"
      },
      "source": [
        ""
      ],
      "execution_count": null,
      "outputs": []
    },
    {
      "cell_type": "markdown",
      "metadata": {
        "id": "GW3EzGAZW8f8"
      },
      "source": [
        "### Filtering and Normalization\n",
        "\n",
        "After discarding all OTUs present in fewer than 4 samples, sort the OTUs, do the following:\n",
        " - Calculate the mean depth across samples for each remaining OTU.\n",
        " - Normalize the remaining OTUs such that each row sum to 0 and have a standard deviation of 1 (so-called z-score normalization)\n",
        " - Print the remaining OTUs to a new file in descending order by their mean depth, with a 12th column giving the mean depth, and columns 1-11 being the normalized depth. Make sure that your file looks like the input file (except with the 12th column)"
      ]
    },
    {
      "cell_type": "code",
      "metadata": {
        "id": "ZF8Ay1vl1f3Z"
      },
      "source": [
        ""
      ],
      "execution_count": null,
      "outputs": []
    },
    {
      "cell_type": "markdown",
      "metadata": {
        "id": "0EjvKxCPJ9oQ"
      },
      "source": [
        "##  Optional exercise: Sequence data as an array\n",
        "_This exercise will not be graded - only do it if you have extra time._\n",
        "\n",
        "### load data \n",
        "\n",
        "Create a function that loads a FASTA file into a `dict` where each key is the FASTA header and the value is an  `ndarray` corresponding to the sequence. Remember that you need to instantiate `ndarray` from a list, not a string. Test it using the `Yersinia pestis` fasta file from the earlier lesson. You can verify that your `ndarray` has the correct length by checking the `.size` attribute:\n",
        "  \n",
        "`array.size`"
      ]
    },
    {
      "cell_type": "code",
      "metadata": {
        "id": "5ei3IHpuW8f8"
      },
      "source": [
        ""
      ],
      "execution_count": null,
      "outputs": []
    },
    {
      "cell_type": "markdown",
      "metadata": {
        "id": "-vnPhxIaW8f8"
      },
      "source": [
        "### Check data\n",
        "Make your function verify that there are only 'A', 'C', 'G', 'T' and 'N' in the sequence. Convert lowercase letters to uppercase letters."
      ]
    },
    {
      "cell_type": "code",
      "metadata": {
        "id": "-tpuYpEIW8f8"
      },
      "source": [
        ""
      ],
      "execution_count": null,
      "outputs": []
    },
    {
      "cell_type": "markdown",
      "metadata": {
        "id": "CiC7TmuaW8f8"
      },
      "source": [
        "### GC count\n",
        "Create a function that calculates GC content of your `ndarray` representing a DNA sequence - ignore Ns. Remember to still use vectorized operations."
      ]
    },
    {
      "cell_type": "code",
      "metadata": {
        "id": "_iiKqLbNW8f8"
      },
      "source": [
        ""
      ],
      "execution_count": null,
      "outputs": []
    },
    {
      "cell_type": "markdown",
      "metadata": {
        "id": "qcaNJot5W8f8"
      },
      "source": [
        "### Profile\n",
        "Use the Jupyter `%timeit` functionality to compare the time spent in your vectorized GC-content function with the GC-content function you created in exercise 2 last monday. See the use of `%timeit` in this Notebook for an example."
      ]
    },
    {
      "cell_type": "code",
      "metadata": {
        "id": "w_ucTs2TW8f8"
      },
      "source": [
        ""
      ],
      "execution_count": null,
      "outputs": []
    },
    {
      "cell_type": "code",
      "metadata": {
        "id": "3gx3B715W8f8"
      },
      "source": [
        ""
      ],
      "execution_count": null,
      "outputs": []
    },
    {
      "cell_type": "markdown",
      "metadata": {
        "id": "Jiu-nERMW8f8"
      },
      "source": [
        "## Optional: Sequence data as an array (redo week 1 briefly in numpy)\n",
        "\n",
        "1. Create a function that loads a FASTA file into a dict where each key is the FASTA header and the value is an ndarray corresponding to the sequence. Remember that you need to instantiate ndarray from a list, not a string. Test it using the Yersinia pestis fasta file from the earlier lesson. You can verify that your ndarray has the correct length by checking the .size attribute of the ndarray.\n",
        "\n",
        "2. Make your function verify that there are only 'A', 'C', 'G', 'T' and 'N' in the sequence. Convert lowercase letters to uppercase letters.\n",
        "\n",
        "3. Create a function that calculates GC content of your ndarray representing a DNA sequence - ignore Ns. Remember to still use vectorized operations\n",
        "\n",
        "4. Use the Jupyter %timeit functionality to compare the time spent in your vectorized GC-content function with the GC-content function you created in exercise 2 last monday. See the use of %timeit in the Notebook for an example.\n"
      ]
    },
    {
      "cell_type": "code",
      "metadata": {
        "id": "Pro_VawsW8f8"
      },
      "source": [
        ""
      ],
      "execution_count": null,
      "outputs": []
    },
    {
      "cell_type": "markdown",
      "metadata": {
        "id": "dukAju8VJ9oQ"
      },
      "source": [
        "---\n",
        "__Congratulations, you finished today's exercise!__"
      ]
    }
  ]
}